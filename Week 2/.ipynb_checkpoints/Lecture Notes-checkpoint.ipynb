{
 "cells": [
  {
   "cell_type": "code",
   "execution_count": 55,
   "metadata": {},
   "outputs": [],
   "source": [
    "import os\n",
    "import numpy as np\n",
    "import pymc3 as pm\n",
    "import pandas as pd\n",
    "import seaborn as sns\n",
    "import us"
   ]
  },
  {
   "cell_type": "markdown",
   "metadata": {},
   "source": [
    "#Motivation\n",
    "This script is intended to test the pymc3 Multi-Chain Monte Carlo (mcmc) package in python with data from attention experiment looking at the increase in search efficency during learning"
   ]
  },
  {
   "cell_type": "markdown",
   "metadata": {},
   "source": []
  },
  {
   "cell_type": "code",
   "execution_count": 52,
   "metadata": {},
   "outputs": [
    {
     "name": "stdout",
     "output_type": "stream",
     "text": [
      "(609207, 5)\n",
      "(3368, 8)\n",
      "   series_id                 blsid      period      value  footnote\n",
      "0          1  LAUST280000000000006  2008-03-01  1312045.0       NaN\n",
      "1          1  LAUST280000000000006  2008-01-01  1313585.0       NaN\n",
      "2          1  LAUST280000000000006  2008-02-01  1311059.0       NaN\n",
      "3          1  LAUST280000000000006  2002-07-01  1294242.0       NaN\n",
      "4          1  LAUST280000000000006  2007-12-01  1330529.0       NaN\n",
      "     id        blsid                                              title  \\\n",
      "0  1613  LNS12300000                        Employment-Population Ratio   \n",
      "1  1615  LNS12600000                   Employed, Usually Work Part Time   \n",
      "2  1616  LNU02036012  Employment Level, Nonag. Industries, With a Jo...   \n",
      "3  1617  LNS14027689  Unemployment Rate - 25 Years & Over, Some Coll...   \n",
      "4  1618  LNS13327709  Alternative measure of labor underutilization U-6   \n",
      "\n",
      "  source is_primary  delta_id is_delta is_adjusted  \n",
      "0    CPS          t    1686.0        f           f  \n",
      "1    CPS          t    1688.0        f           f  \n",
      "2    CPS          t    1689.0        f           f  \n",
      "3    CPS          t    1690.0        f           f  \n",
      "4    CPS          t    1691.0        f           f  \n"
     ]
    }
   ],
   "source": [
    "base_dir='C:/Users/Phil/Downloads/bls'\n",
    "rec=pd.read_csv(os.path.join(base_dir, 'records.csv'), parse_dates=[1])\n",
    "series=pd.read_csv(os.path.join(base_dir, 'series.csv'))\n",
    "\n",
    "#get a sense of the data from the shape and the first few values\n",
    "print(rec.shape)\n",
    "print(series.shape)\n",
    "\n",
    "print(rec.head())\n",
    "print(series.head())\n"
   ]
  },
  {
   "cell_type": "markdown",
   "metadata": {},
   "source": [
    "The relevant variables for us to look at is period, value, is_primary, is_delta, source, so we need to check for missing values\n",
    "in case they need to be delt with. We also need to check for duplicate values in both of the naming columns"
   ]
  },
  {
   "cell_type": "code",
   "execution_count": 38,
   "metadata": {},
   "outputs": [
    {
     "ename": "AttributeError",
     "evalue": "'DataFrame' object has no attribute 'isnan'",
     "output_type": "error",
     "traceback": [
      "\u001b[1;31m---------------------------------------------------------------------------\u001b[0m",
      "\u001b[1;31mAttributeError\u001b[0m                            Traceback (most recent call last)",
      "\u001b[1;32m<ipython-input-38-9427834ea3bd>\u001b[0m in \u001b[0;36m<module>\u001b[1;34m()\u001b[0m\n\u001b[1;32m----> 1\u001b[1;33m \u001b[0mrec_nan\u001b[0m\u001b[1;33m=\u001b[0m\u001b[0mrec\u001b[0m\u001b[1;33m[\u001b[0m\u001b[1;33m[\u001b[0m\u001b[1;34m'period'\u001b[0m\u001b[1;33m,\u001b[0m \u001b[1;34m'value'\u001b[0m\u001b[1;33m]\u001b[0m\u001b[1;33m]\u001b[0m\u001b[1;33m.\u001b[0m\u001b[0misnan\u001b[0m\u001b[1;33m(\u001b[0m\u001b[1;33m)\u001b[0m\u001b[1;33m.\u001b[0m\u001b[0many\u001b[0m\u001b[1;33m(\u001b[0m\u001b[1;33m)\u001b[0m\u001b[1;33m\u001b[0m\u001b[0m\n\u001b[0m\u001b[0;32m      2\u001b[0m \u001b[0mseries_nan\u001b[0m\u001b[1;33m=\u001b[0m\u001b[0mseries\u001b[0m\u001b[1;33m[\u001b[0m\u001b[1;33m[\u001b[0m\u001b[1;34m'source'\u001b[0m\u001b[1;33m,\u001b[0m \u001b[1;34m'is_primary'\u001b[0m\u001b[1;33m,\u001b[0m \u001b[1;34m'is_delta'\u001b[0m\u001b[1;33m]\u001b[0m\u001b[1;33m]\u001b[0m\u001b[1;33m.\u001b[0m\u001b[0misnan\u001b[0m\u001b[1;33m(\u001b[0m\u001b[1;33m)\u001b[0m\u001b[1;33m.\u001b[0m\u001b[0many\u001b[0m\u001b[1;33m(\u001b[0m\u001b[1;33m)\u001b[0m\u001b[1;33m\u001b[0m\u001b[0m\n\u001b[0;32m      3\u001b[0m \u001b[0mprint\u001b[0m\u001b[1;33m(\u001b[0m\u001b[0mrec_nan\u001b[0m\u001b[1;33m,\u001b[0m \u001b[0mseries_nan\u001b[0m\u001b[1;33m)\u001b[0m\u001b[1;33m\u001b[0m\u001b[0m\n\u001b[0;32m      4\u001b[0m \u001b[1;33m\u001b[0m\u001b[0m\n\u001b[0;32m      5\u001b[0m \u001b[0mprint\u001b[0m\u001b[1;33m(\u001b[0m\u001b[0mseries\u001b[0m\u001b[1;33m[\u001b[0m\u001b[1;34m'id'\u001b[0m\u001b[1;33m]\u001b[0m\u001b[1;33m.\u001b[0m\u001b[0mvalue_counts\u001b[0m\u001b[1;33m(\u001b[0m\u001b[1;33m)\u001b[0m\u001b[1;33m)\u001b[0m\u001b[1;33m\u001b[0m\u001b[0m\n",
      "\u001b[1;32mc:\\python\\python36-32\\lib\\site-packages\\pandas\\core\\generic.py\u001b[0m in \u001b[0;36m__getattr__\u001b[1;34m(self, name)\u001b[0m\n\u001b[0;32m   3612\u001b[0m             \u001b[1;32mif\u001b[0m \u001b[0mname\u001b[0m \u001b[1;32min\u001b[0m \u001b[0mself\u001b[0m\u001b[1;33m.\u001b[0m\u001b[0m_info_axis\u001b[0m\u001b[1;33m:\u001b[0m\u001b[1;33m\u001b[0m\u001b[0m\n\u001b[0;32m   3613\u001b[0m                 \u001b[1;32mreturn\u001b[0m \u001b[0mself\u001b[0m\u001b[1;33m[\u001b[0m\u001b[0mname\u001b[0m\u001b[1;33m]\u001b[0m\u001b[1;33m\u001b[0m\u001b[0m\n\u001b[1;32m-> 3614\u001b[1;33m             \u001b[1;32mreturn\u001b[0m \u001b[0mobject\u001b[0m\u001b[1;33m.\u001b[0m\u001b[0m__getattribute__\u001b[0m\u001b[1;33m(\u001b[0m\u001b[0mself\u001b[0m\u001b[1;33m,\u001b[0m \u001b[0mname\u001b[0m\u001b[1;33m)\u001b[0m\u001b[1;33m\u001b[0m\u001b[0m\n\u001b[0m\u001b[0;32m   3615\u001b[0m \u001b[1;33m\u001b[0m\u001b[0m\n\u001b[0;32m   3616\u001b[0m     \u001b[1;32mdef\u001b[0m \u001b[0m__setattr__\u001b[0m\u001b[1;33m(\u001b[0m\u001b[0mself\u001b[0m\u001b[1;33m,\u001b[0m \u001b[0mname\u001b[0m\u001b[1;33m,\u001b[0m \u001b[0mvalue\u001b[0m\u001b[1;33m)\u001b[0m\u001b[1;33m:\u001b[0m\u001b[1;33m\u001b[0m\u001b[0m\n",
      "\u001b[1;31mAttributeError\u001b[0m: 'DataFrame' object has no attribute 'isnan'"
     ]
    }
   ],
   "source": [
    "rec_nan=rec[['period', 'value']].isnull().any()\n",
    "series_nan=series[['source', 'is_primary', 'is_delta']].isnull().any()\n",
    "print(rec_nan, series_nan)\n",
    "\n",
    "print(series['id'].value_counts())\n",
    "print(rec['series_id'].value_counts())"
   ]
  },
  {
   "cell_type": "markdown",
   "metadata": {},
   "source": [
    "There are no missing values, but the rec data has a lot of duplicates. We're going to merge on those keys anyway and deal with it later, depending on what we want to look at."
   ]
  },
  {
   "cell_type": "code",
   "execution_count": 53,
   "metadata": {},
   "outputs": [],
   "source": [
    "main_dat=rec.merge(series, left_on='series_id', right_on='id', how='inner')"
   ]
  },
  {
   "cell_type": "markdown",
   "metadata": {},
   "source": [
    "Here we get sense of where the data is by looking at the overall distribution of value, and mean distribution of values across time for each series "
   ]
  },
  {
   "cell_type": "code",
   "execution_count": 87,
   "metadata": {},
   "outputs": [
    {
     "name": "stderr",
     "output_type": "stream",
     "text": [
      "c:\\python\\python36-32\\lib\\site-packages\\matplotlib\\axes\\_axes.py:6462: UserWarning: The 'normed' kwarg is deprecated, and has been replaced by the 'density' kwarg.\n",
      "  warnings.warn(\"The 'normed' kwarg is deprecated, and has been \"\n"
     ]
    },
    {
     "data": {
      "image/png": "[encoded data removed]",
      "text/plain": [
       "<Figure size 432x288 with 1 Axes>"
      ]
     },
     "metadata": {},
     "output_type": "display_data"
    }
   ],
   "source": [
    "total_hist=sns.distplot(main_dat['value'], axlabel='Value in Dollars')\n"
   ]
  },
  {
   "cell_type": "code",
   "execution_count": 94,
   "metadata": {},
   "outputs": [
    {
     "name": "stderr",
     "output_type": "stream",
     "text": [
      "c:\\python\\python36-32\\lib\\site-packages\\matplotlib\\axes\\_axes.py:6462: UserWarning: The 'normed' kwarg is deprecated, and has been replaced by the 'density' kwarg.\n",
      "  warnings.warn(\"The 'normed' kwarg is deprecated, and has been \"\n"
     ]
    },
    {
     "data": {
      "image/png": "[encoded data removed]",
      "text/plain": [
       "<Figure size 432x288 with 1 Axes>"
      ]
     },
     "metadata": {},
     "output_type": "display_data"
    }
   ],
   "source": [
    "id_dats=main_dat.groupby(['series_id'], as_index=False)['value'].mean()\n",
    "id_hist=sns.distplot(id_dats['value'], bins=10, axlabel='Value in Dollars')"
   ]
  },
  {
   "cell_type": "markdown",
   "metadata": {},
   "source": [
    "The data are highly skewed to the right in both cases so we need to identify who those extreme cases are."
   ]
  },
  {
   "cell_type": "code",
   "execution_count": 101,
   "metadata": {},
   "outputs": [
    {
     "name": "stdout",
     "output_type": "stream",
     "text": [
      "['2008-03-01' '2008-01-01' '2008-02-01' '2002-07-01' '2007-12-01'\n",
      " '2002-06-01' '2001-01-01' '2000-04-01' '2000-03-01' '2000-02-01'\n",
      " '2000-01-01' '2000-07-01' '2000-12-01' '2000-06-01' '2000-05-01'\n",
      " '2000-11-01' '2000-08-01' '2000-10-01' '2000-09-01' '2001-03-01'\n",
      " '2002-05-01' '2001-08-01' '2001-02-01' '2001-07-01' '2001-04-01'\n",
      " '2001-06-01' '2001-05-01' '2001-11-01' '2002-04-01' '2001-10-01'\n",
      " '2001-09-01' '2002-03-01' '2001-12-01' '2002-02-01' '2002-01-01'\n",
      " '2003-09-01' '2002-12-01' '2005-02-01' '2007-11-01' '2002-11-01'\n",
      " '2002-08-01' '2002-10-01' '2002-09-01' '2003-08-01' '2003-03-01'\n",
      " '2003-02-01' '2003-01-01' '2003-07-01' '2003-04-01' '2003-06-01'\n",
      " '2003-05-01' '2005-01-01' '2003-11-01' '2004-04-01' '2003-10-01'\n",
      " '2004-03-01' '2003-12-01' '2004-02-01' '2004-01-01' '2004-12-01'\n",
      " '2004-07-01' '2004-06-01' '2004-05-01' '2004-11-01' '2004-08-01'\n",
      " '2004-10-01' '2004-09-01' '2007-10-01' '2005-03-01' '2006-05-01'\n",
      " '2005-08-01' '2005-07-01' '2005-04-01' '2005-06-01' '2005-05-01'\n",
      " '2006-04-01' '2005-11-01' '2005-10-01' '2005-09-01' '2006-03-01'\n",
      " '2005-12-01' '2006-02-01' '2006-01-01' '2007-09-01' '2006-07-01'\n",
      " '2006-12-01' '2006-06-01' '2006-11-01' '2006-08-01' '2006-10-01'\n",
      " '2006-09-01' '2007-08-01' '2007-03-01' '2007-02-01' '2007-01-01'\n",
      " '2007-07-01' '2007-04-01' '2007-06-01' '2007-05-01' '2014-03-01'\n",
      " '2011-02-01' '2011-01-01' '2010-01-01' '2008-08-01' '2008-07-01'\n",
      " '2008-06-01' '2008-05-01' '2008-04-01' '2009-12-01' '2008-10-01'\n",
      " '2009-03-01' '2008-09-01' '2009-02-01' '2008-11-01' '2009-01-01'\n",
      " '2008-12-01' '2009-11-01' '2009-06-01' '2009-05-01' '2009-04-01'\n",
      " '2009-10-01' '2009-07-01' '2009-09-01' '2009-08-01' '2010-12-01'\n",
      " '2010-11-01' '2010-05-01' '2010-04-01' '2010-03-01' '2010-02-01'\n",
      " '2010-10-01' '2010-07-01' '2010-06-01' '2010-09-01' '2010-08-01'\n",
      " '2014-02-01' '2014-01-01' '2011-04-01' '2011-03-01' '2013-12-01'\n",
      " '2011-10-01' '2012-07-01' '2011-05-01' '2011-09-01' '2011-06-01'\n",
      " '2011-08-01' '2011-07-01' '2012-06-01' '2012-01-01' '2011-12-01'\n",
      " '2011-11-01' '2012-05-01' '2012-02-01' '2012-04-01' '2012-03-01'\n",
      " '2013-11-01' '2013-02-01' '2012-09-01' '2012-08-01' '2013-01-01'\n",
      " '2012-10-01' '2012-12-01' '2012-11-01' '2013-10-01' '2013-05-01'\n",
      " '2013-04-01' '2013-03-01' '2013-09-01' '2013-06-01' '2013-08-01'\n",
      " '2013-07-01' '2014-06-01' '2014-05-01' '2014-04-01' '2015-02-01'\n",
      " '2014-09-01' '2014-08-01' '2014-07-01' '2015-01-01' '2014-10-01'\n",
      " '2014-12-01' '2014-11-01' '2015-03-01']\n"
     ]
    }
   ],
   "source": [
    "outliers=main_dat.loc[main_dat['value'] >main_dat['value'].quantile(.8)]\n",
    "print(outliers['period'].unique())"
   ]
  },
  {
   "cell_type": "markdown",
   "metadata": {},
   "source": [
    "Many of these data point are state specific. "
   ]
  },
  {
   "cell_type": "code",
   "execution_count": null,
   "metadata": {},
   "outputs": [],
   "source": [
    "states=[n.name for n in us.states.STATES]\n",
    "main_dat['state']=0\n",
    "for state in states:\n",
    "    main_dat.loc[main_dat['title'].str.contains(state), 'state']=state\n",
    "    \n",
    "print(main_dat.loc[1, 'title'])"
   ]
  },
  {
   "cell_type": "code",
   "execution_count": 100,
   "metadata": {},
   "outputs": [
    {
     "data": {
      "text/plain": [
       "Index(['series_id', 'blsid_x', 'period', 'value', 'footnote', 'id', 'blsid_y',\n",
       "       'title', 'source', 'is_primary', 'delta_id', 'is_delta', 'is_adjusted',\n",
       "       'state'],\n",
       "      dtype='object')"
      ]
     },
     "execution_count": 100,
     "metadata": {},
     "output_type": "execute_result"
    }
   ],
   "source": [
    "main_dat.keys()"
   ]
  },
  {
   "cell_type": "code",
   "execution_count": null,
   "metadata": {},
   "outputs": [],
   "source": []
  }
 ],
 "metadata": {
  "kernelspec": {
   "display_name": "Python 3",
   "language": "python",
   "name": "python3"
  },
  "language_info": {
   "codemirror_mode": {
    "name": "ipython",
    "version": 3
   },
   "file_extension": ".py",
   "mimetype": "text/x-python",
   "name": "python",
   "nbconvert_exporter": "python",
   "pygments_lexer": "ipython3",
   "version": "3.6.5"
  }
 },
 "nbformat": 4,
 "nbformat_minor": 2
}
