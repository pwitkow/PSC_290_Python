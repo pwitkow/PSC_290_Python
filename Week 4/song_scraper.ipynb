{
 "cells": [
  {
   "cell_type": "code",
   "execution_count": 2,
   "metadata": {},
   "outputs": [
    {
     "name": "stderr",
     "output_type": "stream",
     "text": [
      "WARNING (theano.tensor.blas): Using NumPy C-API based implementation for BLAS functions.\n",
      "c:\\python\\python36-32\\lib\\site-packages\\h5py\\__init__.py:36: FutureWarning: Conversion of the second argument of issubdtype from `float` to `np.floating` is deprecated. In future, it will be treated as `np.float64 == np.dtype(float).type`.\n",
      "  from ._conv import register_converters as _register_converters\n"
     ]
    }
   ],
   "source": [
    "from robobrowser import RoboBrowser as rbr\n",
    "from googlesearch import search\n",
    "\n",
    "import re as re\n",
    "import numpy as np\n",
    "import pandas as pd\n",
    "import seaborn as sns\n",
    "import pymc3 as pm\n",
    "import time\n"
   ]
  },
  {
   "cell_type": "code",
   "execution_count": 3,
   "metadata": {},
   "outputs": [],
   "source": [
    "browser=rbr(history=True)"
   ]
  },
  {
   "cell_type": "markdown",
   "metadata": {},
   "source": [
    "This webscraper oraganizes discography information from bands pulled on google searchs, the scraped from the resulting websites. Currently, this only works on the darklyrics.com site and is customized for their html structure. However, fleixibility can be added later to use input regular expressions to parse data from whatever website the lyrics are on. \n",
    "\n",
    "\n",
    "\n",
    "Functions / Objects\n",
    "\n",
    "All of these functions and objects live outside the main data class, but contribute to the data organization strategy. "
   ]
  },
  {
   "cell_type": "code",
   "execution_count": 4,
   "metadata": {},
   "outputs": [],
   "source": [
    "def scrape(site):\n",
    "    try:\n",
    "        browser.open(site)\n",
    "        htmltext = browser.select('body')\n",
    "        paragraphs = []\n",
    "        for x in htmltext:\n",
    "            paragraphs.append(str(x))\n",
    "        htmltext=''.join(paragraphs)\n",
    "        time.sleep(2)\n",
    "        return htmltext\n",
    "    except:\n",
    "        print('Could not load' + site)\n",
    "    \n",
    "def pull_name(i, band_name):\n",
    "    return re.search(band_name+'/(.*).html', i).group(1)\n",
    "\n",
    "class album:\n",
    "    def __init__(self, name, date):\n",
    "        self.name=name\n",
    "        self.date=date\n",
    "        self.songs={}\n",
    "        self.__dict__\n",
    "\n",
    "    def make_song(self, lyrics, title_sep, lyrics_sep):\n",
    "        title=re.search(re.compile(title_sep), lyrics).group(1)\n",
    "        lyrs=re.search(re.compile(lyrics_sep), lyrics).group(1)\n",
    "        #proects against picking up some garbage at the end of pages\n",
    "        if not lyrs:\n",
    "            pass\n",
    "        else:\n",
    "            #clean up the lyrics for easy searching later\n",
    "            lyrs=re.sub('<br/>', '', lyrs)\n",
    "            self.songs[title]=lyrs                   \n",
    "        return self\n",
    "    \n",
    "    def word_freq(self, wordset=['The']):\n",
    "        #create regex expression from the input list\n",
    "        #for faster search\n",
    "        srchex=''\n",
    "        if len(wordset)==1:\n",
    "            srchex=wordset[0]\n",
    "        else:\n",
    "            for idx, word in enumerate(wordset):\n",
    "                if not idx==len(wordset)-1:\n",
    "                    srchex+=(word+'|')\n",
    "                else:\n",
    "                    srchex+=(word)\n",
    "        pattern=re.compile(srchex, re.IGNORECASE)\n",
    "        \n",
    "        return len(re.findall(pattern,''.join(self.songs.values())))\n",
    "        "
   ]
  },
  {
   "cell_type": "markdown",
   "metadata": {},
   "source": [
    "Main class that stores the discography information as well at the html content. This is the simplist case of the class which organizes and searches the discography. "
   ]
  },
  {
   "cell_type": "code",
   "execution_count": 27,
   "metadata": {},
   "outputs": [],
   "source": [
    "\n",
    "#main class for ogranizing the band data. Currently defaults to megadeth, \n",
    "#but should theoretically work for any metal band on darklyrics\n",
    "class disco:\n",
    "    def __init__(self,pages, band='megadeth',  searchLoad=20):\n",
    "    \n",
    "        self.raw_content=pages               \n",
    "        self.albums={}                 \n",
    "    \n",
    "    def process_albums(self):\n",
    "        lyr_sep=re.compile(r'class=\"lyrics\">(.*)<div class=\"thanks\"')\n",
    "         #use regex to pull identifiers for the album/song look up table                 \n",
    "        for content in self.raw_content:\n",
    "           #date name for album info\n",
    "            \n",
    "            #structure mangment wasn't cosistent across the website, so we're gonna\n",
    "            #pass over strucutres that aren't formed the way we want\n",
    "            try:\n",
    "                print(re.search('album: (.*)</h2>', content).group(1).split(' ('))\n",
    "                title, year = re.search('album: (.*)</h2>', content).group(1).split(' (') \n",
    "                \n",
    "                if title in self.albums.keys():\n",
    "                    pass\n",
    "                #initiate class for the album, slice of the last parenthesis in year\n",
    "                alb=album(name=title, date=year[:-1])\n",
    "                #remove end of lines for easier search\n",
    "                con=re.sub('\\n', ' ', content)\n",
    "            \n",
    "                #subset based on where the lyrics start so we can split the songs up\n",
    "                con=re.search(r'class=\"lyrics\">(.*)<div class=', con).group(1)\n",
    "            \n",
    "                #split and assing songs to the album later for look up\n",
    "                for song in re.compile(r'name=\"[0-9]\">|name=\"[0-9][0-9]\">').split(con)[1:]: \n",
    "                    alb.make_song(lyrics=song, title_sep=r'[0-9].(.*)</a>', lyrics_sep='</h3>(.*)<h3>|</h3>(.*)<br/><div class')\n",
    "                \n",
    "                self.albums[title]=alb\n",
    "            except:\n",
    "                print ('Inconsistent page structure detected. Skipping page...')\n",
    "   \n",
    "    #search the discography with amatorized O(1) look up for different options, \n",
    "    #initialization may be slower than optimal, but this should free memory since the\n",
    "    #dict doesn't live outside the function\n",
    "    def search(self, Type='Album', Find='All'):\n",
    "        #coercing to lower protects against user inputs\n",
    "        if Type.lower()=='album': \n",
    "            searchops={\"All\": list(self.albums.keys()), \n",
    "                            'Any': random.choice(self.albums.keys()) \n",
    "                             }, \n",
    "            searchops.update(self.albums)\n",
    "            return searchops[Find]\n",
    "        elif Type.lower()=='song':\n",
    "            #add any after initiation so we don't have to recompile list\n",
    "            searchop={'All': [list(al.song.values()) for al in self.ablums.values()]}\n",
    "            searchops['Any']=random.choice(searchops['All'])\n",
    "            for albums in self.albums:\n",
    "                searchops.update(ablums.songs)\n",
    "\n",
    "        "
   ]
  },
  {
   "cell_type": "code",
   "execution_count": 6,
   "metadata": {},
   "outputs": [
    {
     "name": "stderr",
     "output_type": "stream",
     "text": [
      "c:\\python\\python36-32\\lib\\site-packages\\bs4\\__init__.py:181: UserWarning: No parser was explicitly specified, so I'm using the best available HTML parser for this system (\"html5lib\"). This usually isn't a problem, but if you run this code on another system, or in a different virtual environment, it may use a different parser and behave differently.\n",
      "\n",
      "The code that caused this warning is on line 193 of the file c:\\python\\python36-32\\lib\\runpy.py. To get rid of this warning, change code that looks like this:\n",
      "\n",
      " BeautifulSoup(YOUR_MARKUP})\n",
      "\n",
      "to this:\n",
      "\n",
      " BeautifulSoup(YOUR_MARKUP, \"html5lib\")\n",
      "\n",
      "  markup_type=markup_type))\n"
     ]
    }
   ],
   "source": [
    "#pull websites from google that cotain lyrics to scrape\n",
    "site_list=search(query='darklyrics megadeth song lyrics', num=20, stop=4)\n",
    "sites=[scrape(item) for item in site_list if re.search('megadeth/.*.html', item)]"
   ]
  },
  {
   "cell_type": "code",
   "execution_count": 28,
   "metadata": {},
   "outputs": [
    {
     "name": "stdout",
     "output_type": "stream",
     "text": [
      "['\"Dystopia\"', '2016)']\n",
      "['\"The World Needs A Hero\"', '2001)']\n",
      "['\"Th1rt3en\"', '2011)']\n",
      "['\"Cryptic Writings\"', '1997)']\n",
      "['\"Rust In Peace\"', '1990)']\n",
      "Inconsistent page structure detected. Skipping page...\n",
      "['\"Super Collider\"', '2013)']\n",
      "['\"The System Has Failed\"', '2004)']\n",
      "['\"United Abominations\"', '2007)']\n",
      "['\"So Far, So Good... So What !\"', '1988)']\n",
      "['\"Killing Is My Business... And Business Is Good!\"', '1985)']\n",
      "['\"Peace Sells... But Who\\'s Buying?\"', '1986)']\n",
      "['\"Countdown To Extinction\"', '1992)']\n",
      "Inconsistent page structure detected. Skipping page...\n",
      "Inconsistent page structure detected. Skipping page...\n"
     ]
    }
   ],
   "source": [
    "f=disco(pages=sites)\n",
    "f.process_albums()"
   ]
  },
  {
   "cell_type": "code",
   "execution_count": 18,
   "metadata": {},
   "outputs": [],
   "source": [
    "#get data on the number of times a word realted to death was metioned in each album along \n",
    "#with the date so we can plot any changes in the use of the word\n",
    "words=['dead', 'death', 'dying', 'died']\n",
    "data=[{'Title':g.name, \"Year\":int(g.date), \"Count\":g.word_freq(words)} for g in f.albums.values()]\n",
    "dats=pd.DataFrame(data).sort_values(\"Year\")\n",
    "\n",
    "#write orderer year indicies since pymc uses array index\n",
    "dats['year_idx']=range(len(dats.Year))"
   ]
  },
  {
   "cell_type": "code",
   "execution_count": 24,
   "metadata": {},
   "outputs": [
    {
     "data": {
      "text/plain": [
       "Text(0.5,1,'Number of Words Related to \\n Death in Megadeth Albums')"
      ]
     },
     "execution_count": 24,
     "metadata": {},
     "output_type": "execute_result"
    },
    {
     "data": {
      "image/png": "[encoded data removed]",
      "text/plain": [
       "<Figure size 360x360 with 1 Axes>"
      ]
     },
     "metadata": {},
     "output_type": "display_data"
    }
   ],
   "source": [
    "#make the plot hella metal\n",
    "plot=sns.lmplot(x='Year', y='Count', data=dats, line_kws={'color': 'darkred'},\n",
    "               scatter_kws={\"color\": \"black\"})\n",
    "plot.ax.set_title('Number of Words Related to \\n Death in Megadeth Albums')"
   ]
  },
  {
   "cell_type": "code",
   "execution_count": 25,
   "metadata": {},
   "outputs": [
    {
     "name": "stderr",
     "output_type": "stream",
     "text": [
      "logp = -49.213, ||grad|| = 0.00063993: 100%|██████████████████████████████████████████| 44/44 [00:00<00:00, 702.37it/s]\n"
     ]
    },
    {
     "name": "stdout",
     "output_type": "stream",
     "text": [
      "{'b0': array(3.1898067), 'sig_b0_log__': array(-7.44976343), 'b1': array(1.09268678), 'sig_b1_log__': array(-7.44976343), 'eps_log__': array(1.79313539), 'sig_b0': array(0.00058158), 'sig_b1': array(0.00058158), 'eps': array(6.00826123)}\n"
     ]
    }
   ],
   "source": [
    "#run a bayesian linear model to see if there's enough evidence to make\n",
    "#any claims about these data\n",
    "death_model=pm.Model()\n",
    "with death_model:\n",
    "    \n",
    "    #linear model specifications\n",
    "    b0=pm.Normal('b0', mu=0, sd=5)\n",
    "    sig_b0=pm.HalfNormal('sig_b0', sd=2)\n",
    "    b1=pm.Normal('b1', mu=0, sd=5)\n",
    "    sig_b1=pm.HalfNormal('sig_b1', sd=2)\n",
    "    \n",
    "    mu=b0+b1*dats.year_idx\n",
    "    \n",
    "    #error for the model\n",
    "    eps = pm.HalfCauchy('eps', 5)\n",
    "    \n",
    "    Y_obs = pm.Normal('Y_obs', mu=mu, sd=eps, observed=dats.Count)\n",
    "    \n",
    "\n",
    "map_estimate = pm.find_MAP(model=death_model)\n",
    "print (map_estimate)"
   ]
  },
  {
   "cell_type": "code",
   "execution_count": 26,
   "metadata": {},
   "outputs": [
    {
     "data": {
      "text/plain": [
       "2.906168663351679"
      ]
     },
     "execution_count": 26,
     "metadata": {},
     "output_type": "execute_result"
    }
   ],
   "source": [
    "#we can pull log probilities of models with given parameters\n",
    "#so wrap in a exponential function to get the probatility\n",
    "model=np.exp(death_model.logp(map_estimate))\n",
    "null=np.exp(death_model.logp({'b0': 3.1898067, 'sig_b0_log__': -7.44976343, 'b1': 0, 'sig_b1_log__': 0, \n",
    "                              'eps_log__': 1.79313539, 'sig_b0': 0.00058158, 'sig_b1': 0, 'eps': 6.008261239}))\n",
    "BF=model/null\n",
    "BF"
   ]
  },
  {
   "cell_type": "markdown",
   "metadata": {},
   "source": [
    "We ran a bayesian linear regression to estimate the increase in the number of times megadeth uses words referring to death over time, or more specifically, the increase in the number of times they use the words death (dead, death, dying, dead) with each consecutive album. The model had normally distributed priors centered on 0 and with a standard deviation of 5 for both the intercept and slope. The model showed the greatest likelihood for an intercept of 3.189 and slope of 1.093. This was then compared to null model with the same parameters except that the slope was set to 0, suggesting that there was no change in usage of words related to death. The resulting Bayes Factor was 2.90. According to this analysis we have substatintail evidence to suggest that megadeth increases the number words related to death in their songs by 1.093 per year. \n"
   ]
  }
 ],
 "metadata": {
  "kernelspec": {
   "display_name": "Python 3",
   "language": "python",
   "name": "python3"
  },
  "language_info": {
   "codemirror_mode": {
    "name": "ipython",
    "version": 3
   },
   "file_extension": ".py",
   "mimetype": "text/x-python",
   "name": "python",
   "nbconvert_exporter": "python",
   "pygments_lexer": "ipython3",
   "version": "3.6.5"
  }
 },
 "nbformat": 4,
 "nbformat_minor": 2
}
